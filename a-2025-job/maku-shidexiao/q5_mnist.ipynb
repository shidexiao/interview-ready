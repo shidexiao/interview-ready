{
 "cells": [
  {
   "cell_type": "markdown",
   "source": [
    "# MNIST 手写数字分类器"
   ],
   "metadata": {
    "collapsed": false
   },
   "id": "9a6627d529533c45"
  },
  {
   "cell_type": "code",
   "execution_count": 9,
   "id": "initial_id",
   "metadata": {
    "collapsed": true,
    "ExecuteTime": {
     "end_time": "2025-06-11T05:53:58.748742Z",
     "start_time": "2025-06-11T05:53:58.081821Z"
    }
   },
   "outputs": [],
   "source": [
    "import tensorflow as tf\n",
    "(X_train_image, y_train_lable), (X_test_image, y_test_lable) = tf.keras.datasets.mnist.load_data()"
   ]
  },
  {
   "cell_type": "code",
   "outputs": [
    {
     "name": "stdout",
     "output_type": "stream",
     "text": [
      "数据集张量形状： (60000, 28, 28, 1)\n",
      "第一个数据标签： [0. 0. 0. 0. 0. 1. 0. 0. 0. 0.]\n"
     ]
    }
   ],
   "source": [
    "from tensorflow.keras.utils import to_categorical # 导入keras.utils工具箱的类别转换工具\n",
    "X_train = X_train_image.reshape(60000,28,28,1) # 给标签增加一个维度\n",
    "X_test = X_test_image.reshape(10000,28,28,1) # 给标签增加一个维度\n",
    "y_train = to_categorical(y_train_lable, 10) # 特征转换为one-hot编码\n",
    "y_test = to_categorical(y_test_lable, 10) # 特征转换为one-hot编码\n",
    "print (\"数据集张量形状：\", X_train.shape) # 特征集张量的形状\n",
    "print (\"第一个数据标签：\",y_train[0]) # 显示标签集的第一个数据"
   ],
   "metadata": {
    "collapsed": false,
    "ExecuteTime": {
     "end_time": "2025-06-11T05:54:31.532907Z",
     "start_time": "2025-06-11T05:54:31.487622Z"
    }
   },
   "id": "4de453c6e6e83659",
   "execution_count": 10
  },
  {
   "cell_type": "code",
   "outputs": [],
   "source": [
    "from keras import models # 导入Keras模型, 和各种神经网络的层\n",
    "from keras.layers import Dense, Dropout, Flatten, Conv2D, MaxPooling2D\n",
    "model = models.Sequential() # 用序贯方式建立模型\n",
    "model.add(Conv2D(32, (3, 3), activation='relu', # 添加Conv2D层\n",
    "                 input_shape=(28,28,1))) # 指定输入数据样本张量的类型\n",
    "model.add(MaxPooling2D(pool_size=(2, 2))) # 添加MaxPooling2D层\n",
    "model.add(Conv2D(64, (3, 3), activation='relu')) # 添加Conv2D层\n",
    "model.add(MaxPooling2D(pool_size=(2, 2))) # 添加MaxPooling2D层\n",
    "model.add(Dropout(0.25)) # 添加Dropout层\n",
    "model.add(Flatten()) # 展平\n",
    "model.add(Dense(128, activation='relu')) # 添加全连接层\n",
    "model.add(Dropout(0.5)) # 添加Dropout层\n",
    "model.add(Dense(10, activation='softmax')) # Softmax分类激活，输出10维分类码\n",
    "# 编译模型\n",
    "model.compile(optimizer='rmsprop', # 指定优化器\n",
    "              loss='categorical_crossentropy', # 指定损失函数\n",
    "              metrics=['accuracy']) # 指定验证过程中的评估指标"
   ],
   "metadata": {
    "collapsed": false,
    "ExecuteTime": {
     "end_time": "2025-06-08T13:52:06.868719Z",
     "start_time": "2025-06-08T13:52:06.784237Z"
    }
   },
   "id": "6276e08e4f9ee6ab",
   "execution_count": 4
  },
  {
   "cell_type": "code",
   "outputs": [
    {
     "name": "stdout",
     "output_type": "stream",
     "text": [
      "Epoch 1/5\n",
      "\u001B[1m329/329\u001B[0m \u001B[32m━━━━━━━━━━━━━━━━━━━━\u001B[0m\u001B[37m\u001B[0m \u001B[1m17s\u001B[0m 47ms/step - accuracy: 0.6089 - loss: 5.6990 - val_accuracy: 0.9711 - val_loss: 0.0991\n",
      "Epoch 2/5\n",
      "\u001B[1m329/329\u001B[0m \u001B[32m━━━━━━━━━━━━━━━━━━━━\u001B[0m\u001B[37m\u001B[0m \u001B[1m25s\u001B[0m 77ms/step - accuracy: 0.9370 - loss: 0.2245 - val_accuracy: 0.9763 - val_loss: 0.0851\n",
      "Epoch 3/5\n",
      "\u001B[1m329/329\u001B[0m \u001B[32m━━━━━━━━━━━━━━━━━━━━\u001B[0m\u001B[37m\u001B[0m \u001B[1m39s\u001B[0m 117ms/step - accuracy: 0.9586 - loss: 0.1487 - val_accuracy: 0.9782 - val_loss: 0.0817\n",
      "Epoch 4/5\n",
      "\u001B[1m329/329\u001B[0m \u001B[32m━━━━━━━━━━━━━━━━━━━━\u001B[0m\u001B[37m\u001B[0m \u001B[1m44s\u001B[0m 133ms/step - accuracy: 0.9688 - loss: 0.1132 - val_accuracy: 0.9829 - val_loss: 0.0592\n",
      "Epoch 5/5\n",
      "\u001B[1m329/329\u001B[0m \u001B[32m━━━━━━━━━━━━━━━━━━━━\u001B[0m\u001B[37m\u001B[0m \u001B[1m43s\u001B[0m 130ms/step - accuracy: 0.9730 - loss: 0.0975 - val_accuracy: 0.9811 - val_loss: 0.0763\n"
     ]
    },
    {
     "data": {
      "text/plain": "<keras.src.callbacks.history.History at 0x13e672190>"
     },
     "execution_count": 5,
     "metadata": {},
     "output_type": "execute_result"
    }
   ],
   "source": [
    "model.fit(X_train, y_train, # 指定训练特征集和训练标签集\n",
    "          validation_split = 0.3, # 部分训练集数据拆分成验证集\n",
    "          epochs=5, # 训练轮次为5轮\n",
    "          batch_size=128) # 以128为批量进行训练"
   ],
   "metadata": {
    "collapsed": false,
    "ExecuteTime": {
     "end_time": "2025-06-08T13:54:58.299698Z",
     "start_time": "2025-06-08T13:52:10.745237Z"
    }
   },
   "id": "4d61e6da6cb4eb03",
   "execution_count": 5
  },
  {
   "cell_type": "code",
   "outputs": [
    {
     "name": "stdout",
     "output_type": "stream",
     "text": [
      "\u001B[1m313/313\u001B[0m \u001B[32m━━━━━━━━━━━━━━━━━━━━\u001B[0m\u001B[37m\u001B[0m \u001B[1m10s\u001B[0m 32ms/step - accuracy: 0.9812 - loss: 0.0741\n",
      "测试集预测准确率: 0.984000027179718\n"
     ]
    }
   ],
   "source": [
    "score = model.evaluate(X_test, y_test) # 在测试集上进行模型评估\n",
    "print('测试集预测准确率:', score[1]) # 打印测试集上的预测准确率"
   ],
   "metadata": {
    "collapsed": false,
    "ExecuteTime": {
     "end_time": "2025-06-08T13:55:08.537381Z",
     "start_time": "2025-06-08T13:54:58.303828Z"
    }
   },
   "id": "ac0ca9ffffe934f3",
   "execution_count": 6
  },
  {
   "cell_type": "code",
   "outputs": [
    {
     "name": "stderr",
     "output_type": "stream",
     "text": [
      "WARNING:absl:You are saving your model as an HDF5 file via `model.save()` or `keras.saving.save_model(model)`. This file format is considered legacy. We recommend using instead the native Keras format, e.g. `model.save('my_model.keras')` or `keras.saving.save_model(model, 'my_model.keras')`. \n"
     ]
    }
   ],
   "source": [
    "# 保存模型\n",
    "model.save('model.h5')"
   ],
   "metadata": {
    "collapsed": false,
    "ExecuteTime": {
     "end_time": "2025-06-08T13:56:08.594022Z",
     "start_time": "2025-06-08T13:56:08.560894Z"
    }
   },
   "id": "e6a8b1e4ed3d61c",
   "execution_count": 7
  },
  {
   "cell_type": "code",
   "outputs": [
    {
     "name": "stdout",
     "output_type": "stream",
     "text": [
      "\u001B[1m1/1\u001B[0m \u001B[32m━━━━━━━━━━━━━━━━━━━━\u001B[0m\u001B[37m\u001B[0m \u001B[1m0s\u001B[0m 79ms/step\n",
      "[9.16311772e-16 1.01353528e-12 4.15793888e-09 1.77867596e-10\n",
      " 2.27735419e-13 1.99367376e-16 1.62248828e-19 1.00000000e+00\n",
      " 6.51910310e-15 1.12738395e-11] 转换一下格式得到： 7\n"
     ]
    },
    {
     "data": {
      "text/plain": "<matplotlib.image.AxesImage at 0x13f1bc350>"
     },
     "execution_count": 8,
     "metadata": {},
     "output_type": "execute_result"
    },
    {
     "data": {
      "text/plain": "<Figure size 640x480 with 1 Axes>",
      "image/png": "[encoded data removed]"
     },
     "metadata": {},
     "output_type": "display_data"
    }
   ],
   "source": [
    "pred = model.predict(X_test[0].reshape(1, 28, 28, 1)) # 预测测试集第一个数据\n",
    "print(pred[0],\"转换一下格式得到：\",pred.argmax()) # 把one-hot码转换为数字\n",
    "import matplotlib.pyplot as plt # 导入绘图工具包\n",
    "plt.imshow(X_test[0].reshape(28, 28),cmap='Greys') # 输出这个图片"
   ],
   "metadata": {
    "collapsed": false,
    "ExecuteTime": {
     "end_time": "2025-06-08T13:56:14.727673Z",
     "start_time": "2025-06-08T13:56:14.395155Z"
    }
   },
   "id": "b2b0927c5dfb514a",
   "execution_count": 8
  },
  {
   "cell_type": "code",
   "outputs": [],
   "source": [],
   "metadata": {
    "collapsed": false
   },
   "id": "79bd3c4cf0992c86"
  }
 ],
 "metadata": {
  "kernelspec": {
   "display_name": "Python 3",
   "language": "python",
   "name": "python3"
  },
  "language_info": {
   "codemirror_mode": {
    "name": "ipython",
    "version": 2
   },
   "file_extension": ".py",
   "mimetype": "text/x-python",
   "name": "python",
   "nbconvert_exporter": "python",
   "pygments_lexer": "ipython2",
   "version": "2.7.6"
  }
 },
 "nbformat": 4,
 "nbformat_minor": 5
}
