{
 "metadata": {
  "kernelspec": {
   "language": "python",
   "display_name": "Python 3",
   "name": "python3"
  },
  "language_info": {
   "name": "python",
   "version": "3.7.12",
   "mimetype": "text/x-python",
   "codemirror_mode": {
    "name": "ipython",
    "version": 3
   },
   "pygments_lexer": "ipython3",
   "nbconvert_exporter": "python",
   "file_extension": ".py"
  }
 },
 "nbformat_minor": 4,
 "nbformat": 4,
 "cells": [
  {
   "cell_type": "code",
   "source": [
    "# import numpy as np # 导入NumPy数学工具箱\n",
    "# import pandas as pd # 导入Pandas数据处理工具箱\n",
    "import tensorflow as tf\n",
    "# from keras.datasets import mnist #从Keras中导入mnist数据集\n",
    "#读入训练集和测试集\n",
    "# (X_train_image, y_train_lable), (X_test_image, y_test_lable) = mnist.load_data() \n",
    "# (x_train, y_train), (x_test, y_test) = tf.keras.datasets.mnist.load_data()\n",
    "(X_train_image, y_train_lable), (X_test_image, y_test_lable) = tf.keras.datasets.mnist.load_data() "
   ],
   "metadata": {
    "execution": {
     "iopub.status.busy": "2021-12-08T15:27:23.028741Z",
     "iopub.execute_input": "2021-12-08T15:27:23.030384Z",
     "iopub.status.idle": "2021-12-08T15:27:24.458099Z",
     "shell.execute_reply.started": "2021-12-08T15:27:23.030305Z",
     "shell.execute_reply": "2021-12-08T15:27:24.457070Z"
    },
    "trusted": true,
    "ExecuteTime": {
     "end_time": "2025-06-11T03:27:16.393293Z",
     "start_time": "2025-06-11T03:27:08.036269Z"
    }
   },
   "execution_count": 2,
   "outputs": [
    {
     "name": "stderr",
     "output_type": "stream",
     "text": [
      "2025-06-11 11:27:11.032996: I tensorflow/core/platform/cpu_feature_guard.cc:210] This TensorFlow binary is optimized to use available CPU instructions in performance-critical operations.\n",
      "To enable the following instructions: AVX2 FMA, in other operations, rebuild TensorFlow with the appropriate compiler flags.\n"
     ]
    }
   ]
  },
  {
   "cell_type": "code",
   "source": [
    "print (\"特征集张量形状train：\", X_train_image.shape) #用shape方法显示张量的形状\n",
    "print (\"特征集张量形状train：\", y_train_lable.shape) #用shape方法显示张量的形状\n",
    "print (\"特征集张量形状test：\", X_test_image.shape) #用shape方法显示张量的形状\n",
    "print (\"特征集张量形状test：\", y_test_lable.shape) #用shape方法显示张量的形状\n",
    "print (\"第一个数据样本：\\n\", X_train_image[0]) #注意Python的索引是从0开始的\n",
    "print (len(X_train_image[0]), len(X_train_image[0][0]))"
   ],
   "metadata": {
    "execution": {
     "iopub.status.busy": "2021-12-08T15:27:24.460267Z",
     "iopub.execute_input": "2021-12-08T15:27:24.460586Z",
     "iopub.status.idle": "2021-12-08T15:27:24.470512Z",
     "shell.execute_reply.started": "2021-12-08T15:27:24.460524Z",
     "shell.execute_reply": "2021-12-08T15:27:24.469599Z"
    },
    "trusted": true,
    "ExecuteTime": {
     "end_time": "2025-06-11T03:27:22.024146Z",
     "start_time": "2025-06-11T03:27:22.017788Z"
    }
   },
   "execution_count": 3,
   "outputs": [
    {
     "name": "stdout",
     "output_type": "stream",
     "text": [
      "特征集张量形状train： (60000, 28, 28)\n",
      "特征集张量形状train： (60000,)\n",
      "特征集张量形状test： (10000, 28, 28)\n",
      "特征集张量形状test： (10000,)\n",
      "第一个数据样本：\n",
      " [[  0   0   0   0   0   0   0   0   0   0   0   0   0   0   0   0   0   0\n",
      "    0   0   0   0   0   0   0   0   0   0]\n",
      " [  0   0   0   0   0   0   0   0   0   0   0   0   0   0   0   0   0   0\n",
      "    0   0   0   0   0   0   0   0   0   0]\n",
      " [  0   0   0   0   0   0   0   0   0   0   0   0   0   0   0   0   0   0\n",
      "    0   0   0   0   0   0   0   0   0   0]\n",
      " [  0   0   0   0   0   0   0   0   0   0   0   0   0   0   0   0   0   0\n",
      "    0   0   0   0   0   0   0   0   0   0]\n",
      " [  0   0   0   0   0   0   0   0   0   0   0   0   0   0   0   0   0   0\n",
      "    0   0   0   0   0   0   0   0   0   0]\n",
      " [  0   0   0   0   0   0   0   0   0   0   0   0   3  18  18  18 126 136\n",
      "  175  26 166 255 247 127   0   0   0   0]\n",
      " [  0   0   0   0   0   0   0   0  30  36  94 154 170 253 253 253 253 253\n",
      "  225 172 253 242 195  64   0   0   0   0]\n",
      " [  0   0   0   0   0   0   0  49 238 253 253 253 253 253 253 253 253 251\n",
      "   93  82  82  56  39   0   0   0   0   0]\n",
      " [  0   0   0   0   0   0   0  18 219 253 253 253 253 253 198 182 247 241\n",
      "    0   0   0   0   0   0   0   0   0   0]\n",
      " [  0   0   0   0   0   0   0   0  80 156 107 253 253 205  11   0  43 154\n",
      "    0   0   0   0   0   0   0   0   0   0]\n",
      " [  0   0   0   0   0   0   0   0   0  14   1 154 253  90   0   0   0   0\n",
      "    0   0   0   0   0   0   0   0   0   0]\n",
      " [  0   0   0   0   0   0   0   0   0   0   0 139 253 190   2   0   0   0\n",
      "    0   0   0   0   0   0   0   0   0   0]\n",
      " [  0   0   0   0   0   0   0   0   0   0   0  11 190 253  70   0   0   0\n",
      "    0   0   0   0   0   0   0   0   0   0]\n",
      " [  0   0   0   0   0   0   0   0   0   0   0   0  35 241 225 160 108   1\n",
      "    0   0   0   0   0   0   0   0   0   0]\n",
      " [  0   0   0   0   0   0   0   0   0   0   0   0   0  81 240 253 253 119\n",
      "   25   0   0   0   0   0   0   0   0   0]\n",
      " [  0   0   0   0   0   0   0   0   0   0   0   0   0   0  45 186 253 253\n",
      "  150  27   0   0   0   0   0   0   0   0]\n",
      " [  0   0   0   0   0   0   0   0   0   0   0   0   0   0   0  16  93 252\n",
      "  253 187   0   0   0   0   0   0   0   0]\n",
      " [  0   0   0   0   0   0   0   0   0   0   0   0   0   0   0   0   0 249\n",
      "  253 249  64   0   0   0   0   0   0   0]\n",
      " [  0   0   0   0   0   0   0   0   0   0   0   0   0   0  46 130 183 253\n",
      "  253 207   2   0   0   0   0   0   0   0]\n",
      " [  0   0   0   0   0   0   0   0   0   0   0   0  39 148 229 253 253 253\n",
      "  250 182   0   0   0   0   0   0   0   0]\n",
      " [  0   0   0   0   0   0   0   0   0   0  24 114 221 253 253 253 253 201\n",
      "   78   0   0   0   0   0   0   0   0   0]\n",
      " [  0   0   0   0   0   0   0   0  23  66 213 253 253 253 253 198  81   2\n",
      "    0   0   0   0   0   0   0   0   0   0]\n",
      " [  0   0   0   0   0   0  18 171 219 253 253 253 253 195  80   9   0   0\n",
      "    0   0   0   0   0   0   0   0   0   0]\n",
      " [  0   0   0   0  55 172 226 253 253 253 253 244 133  11   0   0   0   0\n",
      "    0   0   0   0   0   0   0   0   0   0]\n",
      " [  0   0   0   0 136 253 253 253 212 135 132  16   0   0   0   0   0   0\n",
      "    0   0   0   0   0   0   0   0   0   0]\n",
      " [  0   0   0   0   0   0   0   0   0   0   0   0   0   0   0   0   0   0\n",
      "    0   0   0   0   0   0   0   0   0   0]\n",
      " [  0   0   0   0   0   0   0   0   0   0   0   0   0   0   0   0   0   0\n",
      "    0   0   0   0   0   0   0   0   0   0]\n",
      " [  0   0   0   0   0   0   0   0   0   0   0   0   0   0   0   0   0   0\n",
      "    0   0   0   0   0   0   0   0   0   0]]\n",
      "28 28\n"
     ]
    }
   ]
  },
  {
   "cell_type": "code",
   "source": [
    "print (\"第一个数据样本的标签：\", y_train_lable[0])"
   ],
   "metadata": {
    "execution": {
     "iopub.status.busy": "2021-12-08T15:27:24.471882Z",
     "iopub.execute_input": "2021-12-08T15:27:24.472332Z",
     "iopub.status.idle": "2021-12-08T15:27:24.482351Z",
     "shell.execute_reply.started": "2021-12-08T15:27:24.472297Z",
     "shell.execute_reply": "2021-12-08T15:27:24.481251Z"
    },
    "trusted": true,
    "ExecuteTime": {
     "end_time": "2025-05-06T09:53:35.999623Z",
     "start_time": "2025-05-06T09:53:35.995413Z"
    }
   },
   "execution_count": 3,
   "outputs": [
    {
     "name": "stdout",
     "output_type": "stream",
     "text": [
      "第一个数据样本的标签： 5\n"
     ]
    }
   ]
  },
  {
   "cell_type": "code",
   "outputs": [],
   "source": [],
   "metadata": {
    "collapsed": false
   }
  },
  {
   "cell_type": "code",
   "source": [
    "from tensorflow.keras.utils import to_categorical # 导入keras.utils工具箱的类别转换工具\n",
    "X_train = X_train_image.reshape(60000,28,28,1) # 给标签增加一个维度\n",
    "X_test = X_test_image.reshape(10000,28,28,1) # 给标签增加一个维度\n",
    "y_train = to_categorical(y_train_lable, 10) # 特征转换为one-hot编码\n",
    "y_test = to_categorical(y_test_lable, 10) # 特征转换为one-hot编码\n",
    "print (\"数据集张量形状：\", X_train.shape) # 特征集张量的形状\n",
    "print (\"第一个数据标签：\",y_train[0]) # 显示标签集的第一个数据"
   ],
   "metadata": {
    "execution": {
     "iopub.status.busy": "2021-12-08T15:27:24.483488Z",
     "iopub.execute_input": "2021-12-08T15:27:24.483864Z",
     "iopub.status.idle": "2021-12-08T15:27:24.502648Z",
     "shell.execute_reply.started": "2021-12-08T15:27:24.483833Z",
     "shell.execute_reply": "2021-12-08T15:27:24.501625Z"
    },
    "trusted": true,
    "ExecuteTime": {
     "end_time": "2025-05-06T09:53:42.046079Z",
     "start_time": "2025-05-06T09:53:42.035847Z"
    }
   },
   "execution_count": 4,
   "outputs": [
    {
     "name": "stdout",
     "output_type": "stream",
     "text": [
      "数据集张量形状： (60000, 28, 28, 1)\n",
      "第一个数据标签： [0. 0. 0. 0. 0. 1. 0. 0. 0. 0.]\n"
     ]
    }
   ]
  },
  {
   "cell_type": "code",
   "source": [
    "from keras import models # 导入Keras模型, 和各种神经网络的层\n",
    "from keras.layers import Dense, Dropout, Flatten, Conv2D, MaxPooling2D\n",
    "model = models.Sequential() # 用序贯方式建立模型\n",
    "model.add(Conv2D(32, (3, 3), activation='relu', # 添加Conv2D层\n",
    "                 input_shape=(28,28,1))) # 指定输入数据样本张量的类型\n",
    "model.add(MaxPooling2D(pool_size=(2, 2))) # 添加MaxPooling2D层\n",
    "model.add(Conv2D(64, (3, 3), activation='relu')) # 添加Conv2D层\n",
    "model.add(MaxPooling2D(pool_size=(2, 2))) # 添加MaxPooling2D层\n",
    "model.add(Dropout(0.25)) # 添加Dropout层\n",
    "model.add(Flatten()) # 展平\n",
    "model.add(Dense(128, activation='relu')) # 添加全连接层\n",
    "model.add(Dropout(0.5)) # 添加Dropout层\n",
    "model.add(Dense(10, activation='softmax')) # Softmax分类激活，输出10维分类码\n",
    "# 编译模型\n",
    "model.compile(optimizer='rmsprop', # 指定优化器\n",
    "              loss='categorical_crossentropy', # 指定损失函数\n",
    "              metrics=['accuracy']) # 指定验证过程中的评估指标"
   ],
   "metadata": {
    "execution": {
     "iopub.status.busy": "2021-12-08T15:27:24.505123Z",
     "iopub.execute_input": "2021-12-08T15:27:24.505442Z",
     "iopub.status.idle": "2021-12-08T15:27:24.728576Z",
     "shell.execute_reply.started": "2021-12-08T15:27:24.505400Z",
     "shell.execute_reply": "2021-12-08T15:27:24.727703Z"
    },
    "trusted": true,
    "ExecuteTime": {
     "end_time": "2025-05-06T09:53:49.235979Z",
     "start_time": "2025-05-06T09:53:49.109268Z"
    }
   },
   "execution_count": 5,
   "outputs": [
    {
     "name": "stderr",
     "output_type": "stream",
     "text": [
      "/Users/de/.pyenv/versions/3.11.8/envs/ml3118/lib/python3.11/site-packages/keras/src/layers/convolutional/base_conv.py:107: UserWarning: Do not pass an `input_shape`/`input_dim` argument to a layer. When using Sequential models, prefer using an `Input(shape)` object as the first layer in the model instead.\n",
      "  super().__init__(activity_regularizer=activity_regularizer, **kwargs)\n"
     ]
    }
   ]
  },
  {
   "cell_type": "code",
   "source": [
    "model.fit(X_train, y_train, # 指定训练特征集和训练标签集\n",
    "          validation_split = 0.3, # 部分训练集数据拆分成验证集\n",
    "          epochs=5, # 训练轮次为5轮\n",
    "          batch_size=128) # 以128为批量进行训练"
   ],
   "metadata": {
    "execution": {
     "iopub.status.busy": "2021-12-08T15:27:24.730039Z",
     "iopub.execute_input": "2021-12-08T15:27:24.730300Z",
     "iopub.status.idle": "2021-12-08T15:28:26.373105Z",
     "shell.execute_reply.started": "2021-12-08T15:27:24.730270Z",
     "shell.execute_reply": "2021-12-08T15:28:26.372436Z"
    },
    "trusted": true,
    "ExecuteTime": {
     "end_time": "2025-05-06T09:55:13.318774Z",
     "start_time": "2025-05-06T09:53:53.715068Z"
    }
   },
   "execution_count": 6,
   "outputs": [
    {
     "name": "stdout",
     "output_type": "stream",
     "text": [
      "Epoch 1/5\n",
      "\u001B[1m329/329\u001B[0m \u001B[32m━━━━━━━━━━━━━━━━━━━━\u001B[0m\u001B[37m\u001B[0m \u001B[1m14s\u001B[0m 38ms/step - accuracy: 0.6740 - loss: 5.3582 - val_accuracy: 0.9665 - val_loss: 0.1048\n",
      "Epoch 2/5\n",
      "\u001B[1m329/329\u001B[0m \u001B[32m━━━━━━━━━━━━━━━━━━━━\u001B[0m\u001B[37m\u001B[0m \u001B[1m15s\u001B[0m 45ms/step - accuracy: 0.9390 - loss: 0.2176 - val_accuracy: 0.9769 - val_loss: 0.0870\n",
      "Epoch 3/5\n",
      "\u001B[1m329/329\u001B[0m \u001B[32m━━━━━━━━━━━━━━━━━━━━\u001B[0m\u001B[37m\u001B[0m \u001B[1m16s\u001B[0m 48ms/step - accuracy: 0.9623 - loss: 0.1411 - val_accuracy: 0.9747 - val_loss: 0.0932\n",
      "Epoch 4/5\n",
      "\u001B[1m329/329\u001B[0m \u001B[32m━━━━━━━━━━━━━━━━━━━━\u001B[0m\u001B[37m\u001B[0m \u001B[1m17s\u001B[0m 51ms/step - accuracy: 0.9686 - loss: 0.1108 - val_accuracy: 0.9804 - val_loss: 0.0821\n",
      "Epoch 5/5\n",
      "\u001B[1m329/329\u001B[0m \u001B[32m━━━━━━━━━━━━━━━━━━━━\u001B[0m\u001B[37m\u001B[0m \u001B[1m18s\u001B[0m 56ms/step - accuracy: 0.9734 - loss: 0.0938 - val_accuracy: 0.9785 - val_loss: 0.0829\n"
     ]
    },
    {
     "data": {
      "text/plain": "<keras.src.callbacks.history.History at 0x145dbfad0>"
     },
     "execution_count": 6,
     "metadata": {},
     "output_type": "execute_result"
    }
   ]
  },
  {
   "cell_type": "code",
   "source": [
    "score = model.evaluate(X_test, y_test) # 在测试集上进行模型评估\n",
    "print('测试集预测准确率:', score[1]) # 打印测试集上的预测准确率"
   ],
   "metadata": {
    "execution": {
     "iopub.status.busy": "2021-12-08T15:28:26.374196Z",
     "iopub.execute_input": "2021-12-08T15:28:26.374726Z",
     "iopub.status.idle": "2021-12-08T15:28:27.672944Z",
     "shell.execute_reply.started": "2021-12-08T15:28:26.374692Z",
     "shell.execute_reply": "2021-12-08T15:28:27.672214Z"
    },
    "trusted": true,
    "ExecuteTime": {
     "end_time": "2025-05-06T09:55:31.686411Z",
     "start_time": "2025-05-06T09:55:27.281529Z"
    }
   },
   "execution_count": 7,
   "outputs": [
    {
     "name": "stdout",
     "output_type": "stream",
     "text": [
      "\u001B[1m313/313\u001B[0m \u001B[32m━━━━━━━━━━━━━━━━━━━━\u001B[0m\u001B[37m\u001B[0m \u001B[1m4s\u001B[0m 14ms/step - accuracy: 0.9748 - loss: 0.0937\n",
      "测试集预测准确率: 0.9803000092506409\n"
     ]
    }
   ]
  },
  {
   "cell_type": "code",
   "source": [
    "pred = model.predict(X_test[0].reshape(1, 28, 28, 1)) # 预测测试集第一个数据\n",
    "print(pred[0],\"转换一下格式得到：\",pred.argmax()) # 把one-hot码转换为数字\n",
    "import matplotlib.pyplot as plt # 导入绘图工具包\n",
    "plt.imshow(X_test[0].reshape(28, 28),cmap='Greys') # 输出这个图片"
   ],
   "metadata": {
    "execution": {
     "iopub.status.busy": "2021-12-08T15:28:27.674063Z",
     "iopub.execute_input": "2021-12-08T15:28:27.674302Z",
     "iopub.status.idle": "2021-12-08T15:28:28.051820Z",
     "shell.execute_reply.started": "2021-12-08T15:28:27.674274Z",
     "shell.execute_reply": "2021-12-08T15:28:28.051054Z"
    },
    "trusted": true,
    "ExecuteTime": {
     "end_time": "2025-05-06T09:55:39.152211Z",
     "start_time": "2025-05-06T09:55:38.853760Z"
    }
   },
   "execution_count": 8,
   "outputs": [
    {
     "name": "stdout",
     "output_type": "stream",
     "text": [
      "\u001B[1m1/1\u001B[0m \u001B[32m━━━━━━━━━━━━━━━━━━━━\u001B[0m\u001B[37m\u001B[0m \u001B[1m0s\u001B[0m 72ms/step\n",
      "[5.5436285e-17 5.2677611e-12 1.5093864e-11 2.3662509e-12 8.8505956e-15\n",
      " 1.0391063e-14 1.8463708e-19 1.0000000e+00 7.5205777e-15 2.6021811e-12] 转换一下格式得到： 7\n"
     ]
    },
    {
     "data": {
      "text/plain": "<matplotlib.image.AxesImage at 0x145d2b1d0>"
     },
     "execution_count": 8,
     "metadata": {},
     "output_type": "execute_result"
    },
    {
     "data": {
      "text/plain": "<Figure size 640x480 with 1 Axes>",
      "image/png": "[encoded data removed]"
     },
     "metadata": {},
     "output_type": "display_data"
    }
   ]
  },
  {
   "cell_type": "code",
   "outputs": [],
   "source": [],
   "metadata": {
    "collapsed": false
   }
  }
 ]
}
